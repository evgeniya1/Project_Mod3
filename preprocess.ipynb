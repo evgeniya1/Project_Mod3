{
 "cells": [
  {
   "cell_type": "code",
   "execution_count": 2,
   "metadata": {},
   "outputs": [],
   "source": [
    "#import libraries\n",
    "import numpy as np\n",
    "import pandas as pd\n",
    "\n",
    "#####read csv files#####\n",
    "\n",
    "#specify the path\n",
    "path = ('../Project_Mod3_draft/uw-madison-courses')\n",
    "\n",
    "#grades\n",
    "grades = pd.read_csv(f'{path}/grade_distributions.csv')\n",
    "sections = pd.read_csv(f'{path}/sections.csv')\n",
    "\n",
    "#instructions\n",
    "teachings = pd.read_csv(f'{path}/teachings.csv')\n",
    "instructors = pd.read_csv(f'{path}/instructors.csv')\n",
    "\n",
    "#subjects\n",
    "subject_mem = pd.read_csv(f'{path}/subject_memberships.csv')\n",
    "subjects = pd.read_csv(f'{path}/subjects.csv')\n",
    "is_stem = pd.read_csv(f'{path}/is_stem.csv',index_col=0)\n",
    "\n",
    "# #courses\n",
    "course_offer = pd.read_csv(f'{path}/course_offerings.csv')\n",
    "# courses = pd.read_csv(f'{path}/courses.csv')\n",
    "\n",
    "# #schedules and rooms\n",
    "# schedules = pd.read_csv(f'{path}/schedules.csv')\n",
    "# rooms = pd.read_csv(f'{path}/rooms.csv')"
   ]
  },
  {
   "cell_type": "code",
   "execution_count": 167,
   "metadata": {},
   "outputs": [
    {
     "name": "stdout",
     "output_type": "stream",
     "text": [
      "Information about grades dataset:\n",
      "There is 5595 duplicates.\n",
      "There is 101050 missing grade values.\n",
      "There is 16727 S/U and 550 Cr/N grade values.\n",
      "There is 2697 missing section ids.\n",
      "Initaial grades dataset size is 193262, after filtering it is 74867.\n"
     ]
    }
   ],
   "source": [
    "#####process grades#####\n",
    "\n",
    "#add column with total count of grades for each course\n",
    "count_cols = [x for x in grades.columns if 'count' in x]\n",
    "grades['class_size'] = grades[count_cols].sum(axis=1)\n",
    "\n",
    "#select needed columns\n",
    "g = grades[['course_offering_uuid','section_number','a_count','class_size']]\n",
    "s = sections[['uuid','course_offering_uuid','number']]\n",
    "\n",
    "#filter Satisfactory or Unsatisfactory\n",
    "su_count = grades['s_count'] + grades['u_count']\n",
    "su_filter = (su_count == 0)\n",
    "\n",
    "#filter Credit or No Credit\n",
    "crn_count = grades['cr_count'] + grades['n_count']\n",
    "crn_filter = (crn_count == 0)\n",
    "\n",
    "#merge grades and sections to add the section id into the grades df\n",
    "df = pd.merge(g[su_filter & crn_filter], s,\n",
    "              left_on=['course_offering_uuid','section_number'],\n",
    "              right_on=['course_offering_uuid','number'],how='left')\\\n",
    "       .drop('number',axis=1)\n",
    "\n",
    "#rename the section id column\n",
    "df.rename(columns = {'uuid':'section_uuid'}, inplace=True)\n",
    "\n",
    "\n",
    "#Information about grades dataset\n",
    "print('Information about grades dataset:')\n",
    "\n",
    "#how many duplicates?\n",
    "print(f'There is {df.shape[0] - g.shape[0]} duplicates.')\n",
    "\n",
    "#remove duplicates\n",
    "df.drop_duplicates(['course_offering_uuid','section_number',\n",
    "                    'a_count','class_size'],inplace=True)\n",
    "\n",
    "#how many missing grades?\n",
    "print('There is {} missing grade values.'\\\n",
    "      .format(df[df.class_size==0].shape[0]))\n",
    "\n",
    "#how many S/U and Cr/N?\n",
    "print('There is {} S/U and {} Cr/N grade values.'\\\n",
    "      .format((~su_filter).sum(),(~crn_filter).sum()))\n",
    "\n",
    "#how many missing section ids?\n",
    "print(f'There is {df.section_uuid.isna().sum()} missing section ids.')\n",
    "\n",
    "#add column with fraction of A grades\n",
    "df['a_frac'] = df.a_count / df.class_size\n",
    "\n",
    "#drop missing section ids and missing grades\n",
    "df.dropna(axis=0,inplace=True)\n",
    "\n",
    "print(f'Initaial grades dataset size is {g.shape[0]}, after filtering it is {df.shape[0]}.')"
   ]
  },
  {
   "cell_type": "code",
   "execution_count": 168,
   "metadata": {},
   "outputs": [
    {
     "name": "stdout",
     "output_type": "stream",
     "text": [
      "There is 14 missing instructor ids.\n",
      "Information about instructors dataset:\n",
      "After removing the missing instructor ids dataset size is 74853\n"
     ]
    }
   ],
   "source": [
    "#####process instructors#####\n",
    "\n",
    "#merge teachings and instructors dfs to add instructor names\n",
    "teachers = pd.merge(teachings,instructors,\n",
    "                    right_on='id',left_on='instructor_id')\\\n",
    "             .drop('id',axis=1)\n",
    "\n",
    "#rename the section id column\n",
    "teachers.rename(columns = {'name':'instructor_name'}, inplace=True)\n",
    "\n",
    "#using info about section id, merge grades and teachers \n",
    "df = pd.merge(df,teachers,on = 'section_uuid',how='left')\n",
    "\n",
    "#how many missing instructor ids?\n",
    "print(f'There is {df.instructor_id.isna().sum()} missing instructor ids.')\n",
    "\n",
    "#drop 29 missing instructor ids\n",
    "df.dropna(axis=0,inplace=True)\n",
    "\n",
    "#get back int type for the instructor ids\n",
    "df.instructor_id = df.instructor_id.astype('int64')\n",
    "\n",
    "#Information about grades dataset\n",
    "print('Information about instructors dataset:')\n",
    "\n",
    "print(f'After removing the missing instructor ids dataset size is {df.shape[0]}')"
   ]
  },
  {
   "cell_type": "code",
   "execution_count": 169,
   "metadata": {},
   "outputs": [
    {
     "name": "stdout",
     "output_type": "stream",
     "text": [
      "There is 9828 multi code courses.\n",
      "Current dataset size is 74853.\n"
     ]
    }
   ],
   "source": [
    "#####process subjects#####\n",
    "\n",
    "#filter letters from subject codes\n",
    "subjects = subjects[~(subjects.code == 'ZZZ') & ~(subjects.code == 'SAB')]\n",
    "\n",
    "#change code type to integer\n",
    "subjects.code = subjects.code.astype('int64')\n",
    "\n",
    "#merge subjects and is_stem \n",
    "subjects_stem = pd.merge(subjects,is_stem,on='name')\n",
    "\n",
    "#rename subject column\n",
    "subjects_stem.rename(columns={'name':'subject_name'},inplace=True)\n",
    "\n",
    "#merge subject_mem and subjects on code\n",
    "subject_code = pd.merge(subject_mem,subjects_stem,left_on='subject_code',\n",
    "                        right_on = 'code',how='left').drop('code',axis=1)\n",
    "\n",
    "#using info about course_offering_uuid id merge grades and subjects \n",
    "df = pd.merge(df,subject_code,on = 'course_offering_uuid',how='left')\n",
    "\n",
    "#how many multi code courses are there? Keep the first one.\n",
    "d = subject_code.groupby('course_offering_uuid')['subject_code'].count()\n",
    "print('There is {} multi code courses.'\\\n",
    "      .format(d[d > 1].index.shape[0]))\n",
    "\n",
    "#remove duplicates\n",
    "df.drop_duplicates(['course_offering_uuid','section_number',\n",
    "                    'a_count','class_size'],inplace=True)\n",
    "\n",
    "print(f'Current dataset size is {df.shape[0]}.')"
   ]
  },
  {
   "cell_type": "code",
   "execution_count": 170,
   "metadata": {},
   "outputs": [],
   "source": [
    "#define class size category\n",
    "#define bins\n",
    "bins = df.class_size.quantile([0,0.25,0.75,1]).values\n",
    "#shift initial value to 0 to avoid nans\n",
    "bins[0] = 0\n",
    "\n",
    "df['class_cat'] = pd.cut(df.class_size,\n",
    "                         bins= bins,\n",
    "                         labels=['small','medium','large'])"
   ]
  },
  {
   "cell_type": "code",
   "execution_count": 171,
   "metadata": {},
   "outputs": [
    {
     "name": "stdout",
     "output_type": "stream",
     "text": [
      "(74853, 11)\n",
      "<class 'pandas.core.frame.DataFrame'>\n",
      "Int64Index: 74853 entries, 0 to 86451\n",
      "Data columns (total 11 columns):\n",
      "course_offering_uuid    74853 non-null object\n",
      "section_uuid            74853 non-null object\n",
      "section_number          74853 non-null int64\n",
      "instructor_id           74853 non-null int64\n",
      "instructor_name         74853 non-null object\n",
      "subject_code            74853 non-null int64\n",
      "subject_name            74853 non-null object\n",
      "is_stem                 74853 non-null int64\n",
      "class_size              74853 non-null int64\n",
      "class_cat               74853 non-null category\n",
      "a_frac                  74853 non-null float64\n",
      "dtypes: category(1), float64(1), int64(5), object(4)\n",
      "memory usage: 6.4+ MB\n"
     ]
    }
   ],
   "source": [
    "#reorder the df and skip a_count, subject abbreviation\n",
    "df = df[['course_offering_uuid','section_uuid','section_number',\n",
    "         'instructor_id','instructor_name','subject_code',\n",
    "         'subject_name','is_stem','class_size','class_cat','a_frac']]\n",
    "\n",
    "print(df.shape)\n",
    "df.info()"
   ]
  },
  {
   "cell_type": "code",
   "execution_count": 174,
   "metadata": {},
   "outputs": [],
   "source": [
    "#write the process dataset\n",
    "df.to_csv('grades_processed.csv')"
   ]
  },
  {
   "cell_type": "code",
   "execution_count": 175,
   "metadata": {},
   "outputs": [
    {
     "data": {
      "text/html": [
       "<div>\n",
       "<style scoped>\n",
       "    .dataframe tbody tr th:only-of-type {\n",
       "        vertical-align: middle;\n",
       "    }\n",
       "\n",
       "    .dataframe tbody tr th {\n",
       "        vertical-align: top;\n",
       "    }\n",
       "\n",
       "    .dataframe thead th {\n",
       "        text-align: right;\n",
       "    }\n",
       "</style>\n",
       "<table border=\"1\" class=\"dataframe\">\n",
       "  <thead>\n",
       "    <tr style=\"text-align: right;\">\n",
       "      <th></th>\n",
       "      <th>course_offering_uuid</th>\n",
       "    </tr>\n",
       "  </thead>\n",
       "  <tbody>\n",
       "    <tr>\n",
       "      <th>count</th>\n",
       "      <td>193262</td>\n",
       "    </tr>\n",
       "    <tr>\n",
       "      <th>unique</th>\n",
       "      <td>80171</td>\n",
       "    </tr>\n",
       "    <tr>\n",
       "      <th>top</th>\n",
       "      <td>36754980-48d2-3b34-ad0c-d621a6cb30df</td>\n",
       "    </tr>\n",
       "    <tr>\n",
       "      <th>freq</th>\n",
       "      <td>60</td>\n",
       "    </tr>\n",
       "  </tbody>\n",
       "</table>\n",
       "</div>"
      ],
      "text/plain": [
       "                        course_offering_uuid\n",
       "count                                 193262\n",
       "unique                                 80171\n",
       "top     36754980-48d2-3b34-ad0c-d621a6cb30df\n",
       "freq                                      60"
      ]
     },
     "execution_count": 175,
     "metadata": {},
     "output_type": "execute_result"
    }
   ],
   "source": [
    "grades.describe(include=['object'])"
   ]
  },
  {
   "cell_type": "code",
   "execution_count": 179,
   "metadata": {},
   "outputs": [
    {
     "data": {
      "text/html": [
       "<div>\n",
       "<style scoped>\n",
       "    .dataframe tbody tr th:only-of-type {\n",
       "        vertical-align: middle;\n",
       "    }\n",
       "\n",
       "    .dataframe tbody tr th {\n",
       "        vertical-align: top;\n",
       "    }\n",
       "\n",
       "    .dataframe thead th {\n",
       "        text-align: right;\n",
       "    }\n",
       "</style>\n",
       "<table border=\"1\" class=\"dataframe\">\n",
       "  <thead>\n",
       "    <tr style=\"text-align: right;\">\n",
       "      <th></th>\n",
       "      <th>instructor_name</th>\n",
       "    </tr>\n",
       "  </thead>\n",
       "  <tbody>\n",
       "    <tr>\n",
       "      <th>count</th>\n",
       "      <td>18736</td>\n",
       "    </tr>\n",
       "    <tr>\n",
       "      <th>unique</th>\n",
       "      <td>18598</td>\n",
       "    </tr>\n",
       "    <tr>\n",
       "      <th>top</th>\n",
       "      <td>SUSAN SMITH</td>\n",
       "    </tr>\n",
       "    <tr>\n",
       "      <th>freq</th>\n",
       "      <td>3</td>\n",
       "    </tr>\n",
       "  </tbody>\n",
       "</table>\n",
       "</div>"
      ],
      "text/plain": [
       "       instructor_name\n",
       "count            18736\n",
       "unique           18598\n",
       "top        SUSAN SMITH\n",
       "freq                 3"
      ]
     },
     "execution_count": 179,
     "metadata": {},
     "output_type": "execute_result"
    }
   ],
   "source": [
    "instructors.describe(include=['object']).rename(columns={'name':'instructor_name'})"
   ]
  },
  {
   "cell_type": "code",
   "execution_count": 186,
   "metadata": {},
   "outputs": [
    {
     "data": {
      "text/html": [
       "<div>\n",
       "<style scoped>\n",
       "    .dataframe tbody tr th:only-of-type {\n",
       "        vertical-align: middle;\n",
       "    }\n",
       "\n",
       "    .dataframe tbody tr th {\n",
       "        vertical-align: top;\n",
       "    }\n",
       "\n",
       "    .dataframe thead th {\n",
       "        text-align: right;\n",
       "    }\n",
       "</style>\n",
       "<table border=\"1\" class=\"dataframe\">\n",
       "  <thead>\n",
       "    <tr style=\"text-align: right;\">\n",
       "      <th></th>\n",
       "      <th>subject_name</th>\n",
       "    </tr>\n",
       "  </thead>\n",
       "  <tbody>\n",
       "    <tr>\n",
       "      <th>count</th>\n",
       "      <td>198</td>\n",
       "    </tr>\n",
       "    <tr>\n",
       "      <th>unique</th>\n",
       "      <td>198</td>\n",
       "    </tr>\n",
       "    <tr>\n",
       "      <th>top</th>\n",
       "      <td>WILDLIFE ECOLOGY</td>\n",
       "    </tr>\n",
       "    <tr>\n",
       "      <th>freq</th>\n",
       "      <td>1</td>\n",
       "    </tr>\n",
       "  </tbody>\n",
       "</table>\n",
       "</div>"
      ],
      "text/plain": [
       "            subject_name\n",
       "count                198\n",
       "unique               198\n",
       "top     WILDLIFE ECOLOGY\n",
       "freq                   1"
      ]
     },
     "execution_count": 186,
     "metadata": {},
     "output_type": "execute_result"
    }
   ],
   "source": [
    "subjects.describe(include=['object']).rename(columns={'name':'subject_name'})[['subject_name']]"
   ]
  },
  {
   "cell_type": "code",
   "execution_count": 6,
   "metadata": {},
   "outputs": [
    {
     "data": {
      "text/html": [
       "<div>\n",
       "<style scoped>\n",
       "    .dataframe tbody tr th:only-of-type {\n",
       "        vertical-align: middle;\n",
       "    }\n",
       "\n",
       "    .dataframe tbody tr th {\n",
       "        vertical-align: top;\n",
       "    }\n",
       "\n",
       "    .dataframe thead th {\n",
       "        text-align: right;\n",
       "    }\n",
       "</style>\n",
       "<table border=\"1\" class=\"dataframe\">\n",
       "  <thead>\n",
       "    <tr style=\"text-align: right;\">\n",
       "      <th></th>\n",
       "      <th>uuid</th>\n",
       "      <th>course_uuid</th>\n",
       "      <th>name</th>\n",
       "    </tr>\n",
       "  </thead>\n",
       "  <tbody>\n",
       "    <tr>\n",
       "      <th>count</th>\n",
       "      <td>81452</td>\n",
       "      <td>81452</td>\n",
       "      <td>78916</td>\n",
       "    </tr>\n",
       "    <tr>\n",
       "      <th>unique</th>\n",
       "      <td>81452</td>\n",
       "      <td>9306</td>\n",
       "      <td>8242</td>\n",
       "    </tr>\n",
       "    <tr>\n",
       "      <th>top</th>\n",
       "      <td>e6b8f65b-557e-307b-a1cf-3c07b100304d</td>\n",
       "      <td>aff38538-283c-36f3-bb56-50d75f483e01</td>\n",
       "      <td>Directed Study</td>\n",
       "    </tr>\n",
       "    <tr>\n",
       "      <th>freq</th>\n",
       "      <td>1</td>\n",
       "      <td>22</td>\n",
       "      <td>1666</td>\n",
       "    </tr>\n",
       "  </tbody>\n",
       "</table>\n",
       "</div>"
      ],
      "text/plain": [
       "                                        uuid  \\\n",
       "count                                  81452   \n",
       "unique                                 81452   \n",
       "top     e6b8f65b-557e-307b-a1cf-3c07b100304d   \n",
       "freq                                       1   \n",
       "\n",
       "                                 course_uuid            name  \n",
       "count                                  81452           78916  \n",
       "unique                                  9306            8242  \n",
       "top     aff38538-283c-36f3-bb56-50d75f483e01  Directed Study  \n",
       "freq                                      22            1666  "
      ]
     },
     "execution_count": 6,
     "metadata": {},
     "output_type": "execute_result"
    }
   ],
   "source": [
    "course_offer.describe(include=['object'])"
   ]
  },
  {
   "cell_type": "code",
   "execution_count": 7,
   "metadata": {},
   "outputs": [
    {
     "data": {
      "text/plain": [
       "22"
      ]
     },
     "execution_count": 7,
     "metadata": {},
     "output_type": "execute_result"
    }
   ],
   "source": [
    "#How many terms are there?\n",
    "course_offer.term_code.nunique()"
   ]
  },
  {
   "cell_type": "code",
   "execution_count": null,
   "metadata": {},
   "outputs": [],
   "source": []
  }
 ],
 "metadata": {
  "kernelspec": {
   "display_name": "Python [conda env:learn-env] *",
   "language": "python",
   "name": "conda-env-learn-env-py"
  },
  "language_info": {
   "codemirror_mode": {
    "name": "ipython",
    "version": 3
   },
   "file_extension": ".py",
   "mimetype": "text/x-python",
   "name": "python",
   "nbconvert_exporter": "python",
   "pygments_lexer": "ipython3",
   "version": "3.6.6"
  }
 },
 "nbformat": 4,
 "nbformat_minor": 2
}
